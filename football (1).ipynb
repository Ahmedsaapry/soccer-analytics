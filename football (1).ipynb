{
  "cells": [
    {
      "cell_type": "code",
      "execution_count": null,
      "metadata": {
        "colab": {
          "background_save": true
        },
        "id": "8a5hAzDOCRfD",
        "outputId": "945e393a-794f-417c-de56-9680d80d5ff9"
      },
      "outputs": [
        {
          "name": "stdout",
          "output_type": "stream",
          "text": [
            "Looking in indexes: https://pypi.org/simple, https://us-python.pkg.dev/colab-wheels/public/simple/\n",
            "Requirement already satisfied: tables==3.6.1 in /usr/local/lib/python3.7/dist-packages (3.6.1)\n",
            "Requirement already satisfied: numexpr>=2.6.2 in /usr/local/lib/python3.7/dist-packages (from tables==3.6.1) (2.8.3)\n",
            "Requirement already satisfied: numpy>=1.9.3 in /usr/local/lib/python3.7/dist-packages (from tables==3.6.1) (1.21.6)\n",
            "Requirement already satisfied: packaging in /usr/local/lib/python3.7/dist-packages (from numexpr>=2.6.2->tables==3.6.1) (21.3)\n",
            "Requirement already satisfied: pyparsing!=3.0.5,>=2.0.2 in /usr/local/lib/python3.7/dist-packages (from packaging->numexpr>=2.6.2->tables==3.6.1) (3.0.9)\n",
            "Looking in indexes: https://pypi.org/simple, https://us-python.pkg.dev/colab-wheels/public/simple/\n",
            "Requirement already satisfied: socceraction==0.2.0 in /usr/local/lib/python3.7/dist-packages (0.2.0)\n",
            "Requirement already satisfied: requests in /usr/local/lib/python3.7/dist-packages (from socceraction==0.2.0) (2.23.0)\n",
            "Requirement already satisfied: unidecode in /usr/local/lib/python3.7/dist-packages (from socceraction==0.2.0) (1.3.4)\n",
            "Requirement already satisfied: numpy in /usr/local/lib/python3.7/dist-packages (from socceraction==0.2.0) (1.21.6)\n",
            "Requirement already satisfied: pandas in /usr/local/lib/python3.7/dist-packages (from socceraction==0.2.0) (1.3.5)\n",
            "Requirement already satisfied: tqdm in /usr/local/lib/python3.7/dist-packages (from socceraction==0.2.0) (4.64.0)\n",
            "Requirement already satisfied: python-dateutil>=2.7.3 in /usr/local/lib/python3.7/dist-packages (from pandas->socceraction==0.2.0) (2.8.2)\n",
            "Requirement already satisfied: pytz>=2017.3 in /usr/local/lib/python3.7/dist-packages (from pandas->socceraction==0.2.0) (2022.1)\n",
            "Requirement already satisfied: six>=1.5 in /usr/local/lib/python3.7/dist-packages (from python-dateutil>=2.7.3->pandas->socceraction==0.2.0) (1.15.0)\n",
            "Requirement already satisfied: certifi>=2017.4.17 in /usr/local/lib/python3.7/dist-packages (from requests->socceraction==0.2.0) (2022.6.15)\n",
            "Requirement already satisfied: urllib3!=1.25.0,!=1.25.1,<1.26,>=1.21.1 in /usr/local/lib/python3.7/dist-packages (from requests->socceraction==0.2.0) (1.24.3)\n",
            "Requirement already satisfied: chardet<4,>=3.0.2 in /usr/local/lib/python3.7/dist-packages (from requests->socceraction==0.2.0) (3.0.4)\n",
            "Requirement already satisfied: idna<3,>=2.5 in /usr/local/lib/python3.7/dist-packages (from requests->socceraction==0.2.0) (2.10)\n"
          ]
        }
      ],
      "source": [
        " !pip install tables==3.6.1\n",
        " !pip install socceraction==0.2.0"
      ]
    },
    {
      "cell_type": "code",
      "execution_count": null,
      "metadata": {
        "colab": {
          "background_save": true
        },
        "id": "ULinA23bzQwj"
      },
      "outputs": [],
      "source": [
        "from ast import literal_eval\n",
        "import warnings\n",
        "\n",
        "import pandas as pd\n",
        "import matplotlib.pyplot as plt\n",
        "from sklearn.metrics import brier_score_loss, roc_auc_score\n",
        "from sklearn.model_selection import train_test_split\n",
        "from sklearn.metrics import ConfusionMatrixDisplay\n",
        "\n",
        "import socceraction.vaep.features as features\n",
        "import socceraction.vaep.labels as labels\n",
        "from socceraction.spadl.wyscout import convert_to_spadl\n",
        "from socceraction.vaep.formula import value\n",
        "from tqdm.notebook import tqdm\n",
        "from xgboost import XGBClassifier"
      ]
    },
    {
      "cell_type": "code",
      "execution_count": null,
      "metadata": {
        "colab": {
          "background_save": true
        },
        "id": "IHGVINzqEJoP"
      },
      "outputs": [],
      "source": [
        "import warnings\n",
        "from io import BytesIO\n",
        "from pathlib import Path\n",
        "from urllib.parse import urlparse\n",
        "from urllib.request import urlopen, urlretrieve\n",
        "from zipfile import ZipFile, is_zipfile\n",
        "\n",
        "import pandas as pd\n",
        "import socceraction.vaep.features as features\n",
        "import socceraction.vaep.labels as labels\n",
        "from sklearn.metrics import brier_score_loss, roc_auc_score\n",
        "from socceraction.spadl.wyscout import convert_to_spadl\n",
        "from socceraction.vaep.formula import value\n",
        "from tqdm.notebook import tqdm\n",
        "from xgboost import XGBClassifier"
      ]
    },
    {
      "cell_type": "code",
      "execution_count": null,
      "metadata": {
        "colab": {
          "background_save": true
        },
        "id": "lLx-BegHEJqV"
      },
      "outputs": [],
      "source": [
        "warnings.filterwarnings('ignore', category=pd.io.pytables.PerformanceWarning)"
      ]
    },
    {
      "cell_type": "code",
      "execution_count": null,
      "metadata": {
        "colab": {
          "background_save": true
        },
        "id": "n8xmIYmDEJuQ"
      },
      "outputs": [],
      "source": [
        "# This section downloads the Wyscout dataset, collects the required information about the match events, and converts the match events into the SPADL representation.\n",
        "\n",
        "# Download the Wyscout dataset; (Not needed in Kaggle)\n",
        "# Construct an HDF5 file named wyscout.h5 that contains the relevant information from the dataset;\n",
        "# Convert the wyscout.h5 file into a spadl.h5 file that contains the same information in the SPADL representation."
      ]
    },
    {
      "cell_type": "code",
      "execution_count": null,
      "metadata": {
        "id": "RPHM2JddEJvo"
      },
      "outputs": [],
      "source": [
        "from google.colab import drive\n",
        "drive.mount('/content/drive')"
      ]
    },
    {
      "cell_type": "code",
      "execution_count": null,
      "metadata": {
        "id": "Fx1hcAkO6yyg"
      },
      "outputs": [],
      "source": [
        "data_files = {\n",
        "    'events': 'https://ndownloader.figshare.com/files/14464685',  # ZIP file containing one JSON file for each competition\n",
        "    'matches': 'https://ndownloader.figshare.com/files/14464622',  # ZIP file containing one JSON file for each competition\n",
        "    'players': 'https://ndownloader.figshare.com/files/15073721',  # JSON file\n",
        "    'teams': 'https://ndownloader.figshare.com/files/15073697'  # JSON file\n",
        "}"
      ]
    },
    {
      "cell_type": "code",
      "execution_count": null,
      "metadata": {
        "id": "1ixaogNV1TdO"
      },
      "outputs": [],
      "source": [
        "from google.colab import drive\n",
        "drive.mount('/content/drive')\n",
        "%mkdir -p '/content/drive/My Drive/football/'\n",
        "%cd '/content/drive/My Drive/football/'"
      ]
    },
    {
      "cell_type": "code",
      "execution_count": null,
      "metadata": {
        "id": "sg0pDj0_EJ5Q"
      },
      "outputs": [],
      "source": [
        "for url in tqdm(data_files.values()):\n",
        "    url_s3 = urlopen(url).geturl()\n",
        "    path = Path(urlparse(url_s3).path)\n",
        "    file_name = path.name\n",
        "    file_local, _ = urlretrieve(url_s3, file_name)\n",
        "    if is_zipfile(file_local):\n",
        "        with ZipFile(file_local) as zip_file:\n",
        "            zip_file.extractall()"
      ]
    },
    {
      "cell_type": "code",
      "execution_count": null,
      "metadata": {
        "id": "vpXBShN5Q8mE"
      },
      "outputs": [],
      "source": [
        "def read_json_file(filename):\n",
        "    with open(filename, 'rb') as json_file:\n",
        "        return BytesIO(json_file.read()).getvalue().decode('unicode_escape')"
      ]
    },
    {
      "cell_type": "code",
      "execution_count": null,
      "metadata": {
        "id": "SqAoQxnnRWky"
      },
      "outputs": [],
      "source": [
        ""
      ]
    },
    {
      "cell_type": "markdown",
      "metadata": {
        "id": "LN59CqRjV8S1"
      },
      "source": [
        "**in a HDF5 file, what we call \"directories\" or \"folders\" on our computers, are called groups and what we call files on our computer are called datasets.**"
      ]
    },
    {
      "cell_type": "markdown",
      "metadata": {
        "id": "Q-zABF0jRa-E"
      },
      "source": [
        "**TEAMS**\n"
      ]
    },
    {
      "cell_type": "code",
      "execution_count": null,
      "metadata": {
        "id": "qhbGw0bdRf7r"
      },
      "outputs": [],
      "source": [
        "json_teams = read_json_file('teams.json')\n",
        "df_teams = pd.read_json(json_teams)"
      ]
    },
    {
      "cell_type": "code",
      "execution_count": null,
      "metadata": {
        "id": "USKyTZd9RjV8"
      },
      "outputs": [],
      "source": [
        "df_teams.head(5)"
      ]
    },
    {
      "cell_type": "code",
      "execution_count": null,
      "metadata": {
        "id": "jHf4gKOcRl42"
      },
      "outputs": [],
      "source": [
        " df_teams.to_hdf('wyscout.h5', key='teams', mode='w')"
      ]
    },
    {
      "cell_type": "markdown",
      "metadata": {
        "id": "2w6N_ueMR_6V"
      },
      "source": [
        "**PLAYERS**"
      ]
    },
    {
      "cell_type": "markdown",
      "metadata": {
        "id": "PefzLxE2SI5I"
      },
      "source": [
        " read the players.json file into a DataFrame object and store that object in the wyscout.h5 HDF5 file under the key players."
      ]
    },
    {
      "cell_type": "code",
      "execution_count": null,
      "metadata": {
        "id": "MeRhX-6PSQQ0"
      },
      "outputs": [],
      "source": [
        "json_players = read_json_file('players.json')\n",
        "df_players = pd.read_json(json_players)"
      ]
    },
    {
      "cell_type": "code",
      "execution_count": null,
      "metadata": {
        "id": "HbHgkyGsSUrT"
      },
      "outputs": [],
      "source": [
        "df_players.head(2)"
      ]
    },
    {
      "cell_type": "code",
      "execution_count": null,
      "metadata": {
        "id": "WnIIVhumSWaK"
      },
      "outputs": [],
      "source": [
        "df_players.to_hdf('wyscout.h5', key='players', mode='a')"
      ]
    },
    {
      "cell_type": "markdown",
      "metadata": {
        "id": "GTIGJqIfS2rr"
      },
      "source": [
        "**Matches**"
      ]
    },
    {
      "cell_type": "markdown",
      "metadata": {
        "id": "8kQ3OEdFS1qh"
      },
      "source": [
        "Uncomment the competitions that you want to include in your dataset."
      ]
    },
    {
      "cell_type": "code",
      "execution_count": null,
      "metadata": {
        "id": "a5cysakGTK6R"
      },
      "outputs": [],
      "source": [
        "competitions = [\n",
        "     'England',\n",
        "     'France',\n",
        "     'Germany',\n",
        "     'Italy',\n",
        "    'Spain',\n",
        "#   'European Championship',\n",
        "#   'World Cup'\n",
        "]"
      ]
    },
    {
      "cell_type": "code",
      "execution_count": null,
      "metadata": {
        "id": "mVWSU_uLTgWU"
      },
      "outputs": [],
      "source": [
        ""
      ]
    },
    {
      "cell_type": "markdown",
      "metadata": {
        "id": "_w88HdCVT2Nk"
      },
      "source": [
        "read the matches.json files for the selected competitions into a DataFrame object and store that object in the wyscout.h5 HDF5 file under the key matches."
      ]
    },
    {
      "cell_type": "code",
      "execution_count": null,
      "metadata": {
        "id": "GqjymNLET46v"
      },
      "outputs": [],
      "source": [
        "dfs_matches = []\n",
        "for competition in competitions:\n",
        "    competition_name = competition.replace(' ', '_')\n",
        "    file_matches = f'matches_{competition_name}.json'\n",
        "    json_matches = read_json_file(file_matches)\n",
        "    df_matches = pd.read_json(json_matches)\n",
        "    dfs_matches.append(df_matches)\n",
        "df_matches = pd.concat(dfs_matches)"
      ]
    },
    {
      "cell_type": "code",
      "execution_count": null,
      "metadata": {
        "id": "NjkJ-OoYUCJ0"
      },
      "outputs": [],
      "source": [
        "df_matches.head(3)"
      ]
    },
    {
      "cell_type": "code",
      "execution_count": null,
      "metadata": {
        "id": "GT7puL8kUER-"
      },
      "outputs": [],
      "source": [
        "df_matches.to_hdf('wyscout.h5', key='matches', mode='a')"
      ]
    },
    {
      "cell_type": "markdown",
      "metadata": {
        "id": "Xm1p731NUgcJ"
      },
      "source": [
        "**EVENTS**"
      ]
    },
    {
      "cell_type": "markdown",
      "metadata": {
        "id": "zHy_dsBJUoPw"
      },
      "source": [
        "read the events.json files for the selected competitions into a DataFrame object and store that object in the wyscout.h5 HDF5 file under the key events/match_match-id"
      ]
    },
    {
      "cell_type": "code",
      "execution_count": null,
      "metadata": {
        "id": "kEyep62iUo4v"
      },
      "outputs": [],
      "source": [
        "for competition in competitions:\n",
        "    competition_name = competition.replace(' ', '_')\n",
        "    file_events = f'events_{competition_name}.json'\n",
        "    json_events = read_json_file(file_events)\n",
        "    df_events = pd.read_json(json_events)\n",
        "    df_events_matches = df_events.groupby('matchId', as_index=False)\n",
        "    for match_id, df_events_match in df_events_matches:\n",
        "        df_events_match.to_hdf('wyscout.h5', key=f'events/match_{match_id}', mode='a')"
      ]
    },
    {
      "cell_type": "markdown",
      "metadata": {
        "id": "eD5xIWvHVLi0"
      },
      "source": [
        "**Convert the Wyscout data to the SPADL representation**"
      ]
    },
    {
      "cell_type": "markdown",
      "metadata": {
        "id": "ri2YdiriVR-q"
      },
      "source": [
        "The following cell calls the convert_to_spadl function from the socceraction library to convert the wyscout.h5 HDF5 file into the spadl.h5 HDF5 file."
      ]
    },
    {
      "cell_type": "code",
      "execution_count": null,
      "metadata": {
        "colab": {
          "background_save": true
        },
        "id": "-p-ESqBAVTBj"
      },
      "outputs": [],
      "source": [
        "convert_to_spadl('wyscout.h5', 'spadl.h5')"
      ]
    },
    {
      "cell_type": "markdown",
      "metadata": {
        "id": "BHJLP3bvWKQh"
      },
      "source": [
        "**Value game states**"
      ]
    },
    {
      "cell_type": "markdown",
      "metadata": {
        "id": "fnva8THRWX8x"
      },
      "source": [
        "1-Generate the features to describe the game states;\n",
        "\n",
        "2-Generate the labels that capture the value of the game states;\n",
        "\n",
        "3-Compose a dataset by selecting a set of features and the labels of the game states;\n",
        "\n",
        "4-Train predictive machine learning models using the dataset;\n",
        "\n",
        "5-Value the game states using the trained predictive machine learning model."
      ]
    },
    {
      "cell_type": "code",
      "execution_count": null,
      "metadata": {
        "colab": {
          "background_save": true
        },
        "id": "Xf7XZdVUWYq-"
      },
      "outputs": [],
      "source": [
        "df_games = pd.read_hdf('spadl.h5', key='games')\n",
        "df_actiontypes = pd.read_hdf('spadl.h5', key='actiontypes')\n",
        "df_bodyparts = pd.read_hdf('spadl.h5', key='bodyparts')\n",
        "df_results = pd.read_hdf('spadl.h5', key='results')"
      ]
    },
    {
      "cell_type": "code",
      "execution_count": null,
      "metadata": {
        "colab": {
          "background_save": true
        },
        "id": "_bsoXi-nWf3W"
      },
      "outputs": [],
      "source": [
        "nb_prev_actions = 3"
      ]
    },
    {
      "cell_type": "markdown",
      "metadata": {
        "id": "rfdn3C-5t5X9"
      },
      "source": [
        "**Generate game state features**"
      ]
    },
    {
      "cell_type": "markdown",
      "metadata": {
        "id": "laYl_xO-uAOb"
      },
      "source": [
        "The following cell lists a number of feature generators from the features module in the socceraction library. Each function expects either a DataFrame object containing actions (i.e., individual actions) or a list of DataFrame objects containing consecutive actions (i.e., game states), and returns the corresponding feature for the individual action or game state."
      ]
    },
    {
      "cell_type": "code",
      "execution_count": null,
      "metadata": {
        "colab": {
          "background_save": true
        },
        "id": "t3wCDYNBt7YS"
      },
      "outputs": [],
      "source": [
        "functions_features = [\n",
        "    features.actiontype_onehot,\n",
        "    features.bodypart_onehot,\n",
        "    features.result_onehot,\n",
        "    features.goalscore,\n",
        "    features.startlocation,\n",
        "    features.endlocation,\n",
        "    features.movement,\n",
        "    features.space_delta,\n",
        "    features.startpolar,\n",
        "    features.endpolar,\n",
        "    features.team,\n",
        "    features.time_delta\n",
        "]"
      ]
    },
    {
      "cell_type": "markdown",
      "metadata": {
        "id": "Lt6Ajt8EuLCH"
      },
      "source": [
        "The following cell generates game states from consecutive actions in each game and computes the features for each game state.\n",
        "\n",
        "1- Obtain the actions for the game (i.e., df_actions) by looping through the games;\n",
        "\n",
        "2- Construct game states of a given length from the actions (i.e., dfs_gamestates);\n",
        "\n",
        "3- Compute the features for the constructed game states (i.e., df_features) by looping through the list of feature generators."
      ]
    },
    {
      "cell_type": "code",
      "execution_count": null,
      "metadata": {
        "colab": {
          "background_save": true,
          "base_uri": "https://localhost:8080/",
          "height": 35,
          "referenced_widgets": [
            "20d3014c627847b693d6ec7ea9dadf9e"
          ]
        },
        "id": "hW0R3K8TuIH0",
        "outputId": "916039d1-c2d1-4461-959c-9eea22a8fdb3"
      },
      "outputs": [
        {
          "data": {
            "application/vnd.jupyter.widget-view+json": {
              "model_id": "20d3014c627847b693d6ec7ea9dadf9e",
              "version_major": 2,
              "version_minor": 0
            },
            "text/plain": [
              "  0%|          | 0/1826 [00:00<?, ?it/s]"
            ]
          },
          "metadata": {},
          "output_type": "display_data"
        }
      ],
      "source": [
        "for _, game in tqdm(df_games.iterrows(), total=len(df_games)):\n",
        "    game_id = game['game_id']\n",
        "    df_actions = pd.read_hdf('spadl.h5', key=f'actions/game_{game_id}')\n",
        "    df_actions = (df_actions\n",
        "        .merge(df_actiontypes, how='left')\n",
        "        .merge(df_results, how='left')\n",
        "        .merge(df_bodyparts, how='left')\n",
        "        .reset_index(drop=True)\n",
        "    )\n",
        "    \n",
        "    dfs_gamestates = features.gamestates(df_actions, nb_prev_actions=nb_prev_actions)\n",
        "    dfs_gamestates = features.play_left_to_right(dfs_gamestates, game['home_team_id'])\n",
        "    \n",
        "    df_features = pd.concat([function(dfs_gamestates) for function in functions_features], axis=1)\n",
        "    df_features.to_hdf('features.h5', key=f'game_{game_id}')"
      ]
    },
    {
      "cell_type": "markdown",
      "metadata": {
        "id": "YHSRyeRquZS0"
      },
      "source": [
        "**Generate game state labels**"
      ]
    },
    {
      "cell_type": "markdown",
      "metadata": {
        "id": "Tr4H3tPguhsN"
      },
      "source": [
        "The following cell lists a number of label generators from the labels module in the socceraction library. Each function expects either a DataFrame object containing actions (i.e., individual actions) or a list of DataFrame objects containing consecutive actions (i.e., game states), and returns the corresponding label for the individual action or game state."
      ]
    },
    {
      "cell_type": "code",
      "execution_count": null,
      "metadata": {
        "colab": {
          "background_save": true
        },
        "id": "Gj7oJOuvuVqB"
      },
      "outputs": [],
      "source": [
        "functions_labels = [\n",
        "    labels.scores,\n",
        "    labels.concedes\n",
        "]"
      ]
    },
    {
      "cell_type": "markdown",
      "metadata": {
        "id": "DoELNrShuYk-"
      },
      "source": [
        "The following cell computes the labels for each action:\n",
        "\n",
        "1- Obtain the actions for the game (i.e., df_actions) by looping through the games;\n",
        "\n",
        "2- Compute the labels for the actions (i.e., df_labels) by looping through the list of label generators."
      ]
    },
    {
      "cell_type": "code",
      "execution_count": null,
      "metadata": {
        "colab": {
          "background_save": true
        },
        "id": "32xcIK6iuuyD"
      },
      "outputs": [],
      "source": [
        "for _, game in tqdm(df_games.iterrows(), total=len(df_games)):\n",
        "    game_id = game['game_id']\n",
        "    df_actions = pd.read_hdf('spadl.h5', key=f'actions/game_{game_id}')\n",
        "    df_actions = (df_actions\n",
        "        .merge(df_actiontypes, how='left')\n",
        "        .merge(df_results, how='left')\n",
        "        .merge(df_bodyparts, how='left')\n",
        "        .reset_index(drop=True)\n",
        "    )\n",
        "    \n",
        "    df_labels = pd.concat([function(df_actions) for function in functions_labels], axis=1)\n",
        "    df_labels.to_hdf('labels.h5', key=f'game_{game_id}')"
      ]
    },
    {
      "cell_type": "markdown",
      "metadata": {
        "id": "hehrABbEu323"
      },
      "source": [
        "**Generate dataset**"
      ]
    },
    {
      "cell_type": "markdown",
      "metadata": {
        "id": "HZw4owCXu-pv"
      },
      "source": [
        "The following cell generates a list of names for the features to be included in the dataset."
      ]
    },
    {
      "cell_type": "code",
      "execution_count": null,
      "metadata": {
        "colab": {
          "background_save": true
        },
        "id": "zQI-D_pKu7pO"
      },
      "outputs": [],
      "source": [
        "columns_features = features.feature_column_names(functions_features, nb_prev_actions=nb_prev_actions)"
      ]
    },
    {
      "cell_type": "markdown",
      "metadata": {
        "id": "8x6_AkNPvDOg"
      },
      "source": [
        "The following cell obtains the relevant features for each game and stores them in the df_features DataFrame object."
      ]
    },
    {
      "cell_type": "code",
      "execution_count": null,
      "metadata": {
        "colab": {
          "background_save": true
        },
        "id": "mi571UHxvFrn"
      },
      "outputs": [],
      "source": [
        "dfs_features = []\n",
        "for _, game in tqdm(df_games.iterrows(), total=len(df_games)):\n",
        "    game_id = game['game_id']\n",
        "    df_features = pd.read_hdf('features.h5', key=f'game_{game_id}')\n",
        "    dfs_features.append(df_features[columns_features])\n",
        "df_features = pd.concat(dfs_features).reset_index(drop=True)"
      ]
    },
    {
      "cell_type": "code",
      "execution_count": null,
      "metadata": {
        "colab": {
          "background_save": true
        },
        "id": "i2lvB4yxvKeH"
      },
      "outputs": [],
      "source": [
        "df_features.head(5)"
      ]
    },
    {
      "cell_type": "markdown",
      "metadata": {
        "id": "4EXN47QQvO2L"
      },
      "source": [
        "The following cell lists the names of the labels to be included in the dataset.\n"
      ]
    },
    {
      "cell_type": "code",
      "execution_count": null,
      "metadata": {
        "colab": {
          "background_save": true
        },
        "id": "VtAOwiXavPvc"
      },
      "outputs": [],
      "source": [
        "columns_labels = [\n",
        "    'scores',\n",
        "    'concedes'\n",
        "]"
      ]
    },
    {
      "cell_type": "markdown",
      "metadata": {
        "id": "IeBlnZmGvWF_"
      },
      "source": [
        "The following cell obtains the relevant labels for each game and stores them in the df_labels DataFrame object."
      ]
    },
    {
      "cell_type": "code",
      "execution_count": null,
      "metadata": {
        "colab": {
          "background_save": true
        },
        "id": "vGH44p5-vXm9"
      },
      "outputs": [],
      "source": [
        "dfs_labels = []\n",
        "for _, game in tqdm(df_games.iterrows(), total=len(df_games)):\n",
        "    game_id = game['game_id']\n",
        "    df_labels = pd.read_hdf('labels.h5', key=f'game_{game_id}')\n",
        "    dfs_labels.append(df_labels[columns_labels])\n",
        "df_labels = pd.concat(dfs_labels).reset_index(drop=True)"
      ]
    },
    {
      "cell_type": "code",
      "execution_count": null,
      "metadata": {
        "colab": {
          "background_save": true
        },
        "id": "DeiEQUwKvbj7",
        "outputId": "36a987b4-1680-40cf-ab99-3f1572418557"
      },
      "outputs": [
        {
          "data": {
            "text/html": [
              "\n",
              "  <div id=\"df-2f9a7df1-4577-4939-893b-78ab45b74689\">\n",
              "    <div class=\"colab-df-container\">\n",
              "      <div>\n",
              "<style scoped>\n",
              "    .dataframe tbody tr th:only-of-type {\n",
              "        vertical-align: middle;\n",
              "    }\n",
              "\n",
              "    .dataframe tbody tr th {\n",
              "        vertical-align: top;\n",
              "    }\n",
              "\n",
              "    .dataframe thead th {\n",
              "        text-align: right;\n",
              "    }\n",
              "</style>\n",
              "<table border=\"1\" class=\"dataframe\">\n",
              "  <thead>\n",
              "    <tr style=\"text-align: right;\">\n",
              "      <th></th>\n",
              "      <th>scores</th>\n",
              "      <th>concedes</th>\n",
              "    </tr>\n",
              "  </thead>\n",
              "  <tbody>\n",
              "    <tr>\n",
              "      <th>0</th>\n",
              "      <td>False</td>\n",
              "      <td>False</td>\n",
              "    </tr>\n",
              "    <tr>\n",
              "      <th>1</th>\n",
              "      <td>False</td>\n",
              "      <td>False</td>\n",
              "    </tr>\n",
              "    <tr>\n",
              "      <th>2</th>\n",
              "      <td>False</td>\n",
              "      <td>False</td>\n",
              "    </tr>\n",
              "    <tr>\n",
              "      <th>3</th>\n",
              "      <td>False</td>\n",
              "      <td>False</td>\n",
              "    </tr>\n",
              "    <tr>\n",
              "      <th>4</th>\n",
              "      <td>False</td>\n",
              "      <td>False</td>\n",
              "    </tr>\n",
              "  </tbody>\n",
              "</table>\n",
              "</div>\n",
              "      <button class=\"colab-df-convert\" onclick=\"convertToInteractive('df-2f9a7df1-4577-4939-893b-78ab45b74689')\"\n",
              "              title=\"Convert this dataframe to an interactive table.\"\n",
              "              style=\"display:none;\">\n",
              "        \n",
              "  <svg xmlns=\"http://www.w3.org/2000/svg\" height=\"24px\"viewBox=\"0 0 24 24\"\n",
              "       width=\"24px\">\n",
              "    <path d=\"M0 0h24v24H0V0z\" fill=\"none\"/>\n",
              "    <path d=\"M18.56 5.44l.94 2.06.94-2.06 2.06-.94-2.06-.94-.94-2.06-.94 2.06-2.06.94zm-11 1L8.5 8.5l.94-2.06 2.06-.94-2.06-.94L8.5 2.5l-.94 2.06-2.06.94zm10 10l.94 2.06.94-2.06 2.06-.94-2.06-.94-.94-2.06-.94 2.06-2.06.94z\"/><path d=\"M17.41 7.96l-1.37-1.37c-.4-.4-.92-.59-1.43-.59-.52 0-1.04.2-1.43.59L10.3 9.45l-7.72 7.72c-.78.78-.78 2.05 0 2.83L4 21.41c.39.39.9.59 1.41.59.51 0 1.02-.2 1.41-.59l7.78-7.78 2.81-2.81c.8-.78.8-2.07 0-2.86zM5.41 20L4 18.59l7.72-7.72 1.47 1.35L5.41 20z\"/>\n",
              "  </svg>\n",
              "      </button>\n",
              "      \n",
              "  <style>\n",
              "    .colab-df-container {\n",
              "      display:flex;\n",
              "      flex-wrap:wrap;\n",
              "      gap: 12px;\n",
              "    }\n",
              "\n",
              "    .colab-df-convert {\n",
              "      background-color: #E8F0FE;\n",
              "      border: none;\n",
              "      border-radius: 50%;\n",
              "      cursor: pointer;\n",
              "      display: none;\n",
              "      fill: #1967D2;\n",
              "      height: 32px;\n",
              "      padding: 0 0 0 0;\n",
              "      width: 32px;\n",
              "    }\n",
              "\n",
              "    .colab-df-convert:hover {\n",
              "      background-color: #E2EBFA;\n",
              "      box-shadow: 0px 1px 2px rgba(60, 64, 67, 0.3), 0px 1px 3px 1px rgba(60, 64, 67, 0.15);\n",
              "      fill: #174EA6;\n",
              "    }\n",
              "\n",
              "    [theme=dark] .colab-df-convert {\n",
              "      background-color: #3B4455;\n",
              "      fill: #D2E3FC;\n",
              "    }\n",
              "\n",
              "    [theme=dark] .colab-df-convert:hover {\n",
              "      background-color: #434B5C;\n",
              "      box-shadow: 0px 1px 3px 1px rgba(0, 0, 0, 0.15);\n",
              "      filter: drop-shadow(0px 1px 2px rgba(0, 0, 0, 0.3));\n",
              "      fill: #FFFFFF;\n",
              "    }\n",
              "  </style>\n",
              "\n",
              "      <script>\n",
              "        const buttonEl =\n",
              "          document.querySelector('#df-2f9a7df1-4577-4939-893b-78ab45b74689 button.colab-df-convert');\n",
              "        buttonEl.style.display =\n",
              "          google.colab.kernel.accessAllowed ? 'block' : 'none';\n",
              "\n",
              "        async function convertToInteractive(key) {\n",
              "          const element = document.querySelector('#df-2f9a7df1-4577-4939-893b-78ab45b74689');\n",
              "          const dataTable =\n",
              "            await google.colab.kernel.invokeFunction('convertToInteractive',\n",
              "                                                     [key], {});\n",
              "          if (!dataTable) return;\n",
              "\n",
              "          const docLinkHtml = 'Like what you see? Visit the ' +\n",
              "            '<a target=\"_blank\" href=https://colab.research.google.com/notebooks/data_table.ipynb>data table notebook</a>'\n",
              "            + ' to learn more about interactive tables.';\n",
              "          element.innerHTML = '';\n",
              "          dataTable['output_type'] = 'display_data';\n",
              "          await google.colab.output.renderOutput(dataTable, element);\n",
              "          const docLink = document.createElement('div');\n",
              "          docLink.innerHTML = docLinkHtml;\n",
              "          element.appendChild(docLink);\n",
              "        }\n",
              "      </script>\n",
              "    </div>\n",
              "  </div>\n",
              "  "
            ],
            "text/plain": [
              "   scores  concedes\n",
              "0   False     False\n",
              "1   False     False\n",
              "2   False     False\n",
              "3   False     False\n",
              "4   False     False"
            ]
          },
          "execution_count": 37,
          "metadata": {},
          "output_type": "execute_result"
        }
      ],
      "source": [
        "df_labels.head(5)"
      ]
    },
    {
      "cell_type": "markdown",
      "metadata": {
        "id": "OXl-APTPN_gw"
      },
      "source": [
        "**Train classifiers**"
      ]
    },
    {
      "cell_type": "markdown",
      "metadata": {
        "id": "yzSJXYTVOEki"
      },
      "source": [
        "The following cell trains an XGBoost classifier for each label using the computed features. For each label:\n",
        "\n",
        "1- Construct an XGBoost classifier with default hyperparameters;\n",
        "\n",
        "2- Train the classifier using the computed features and the label;\n",
        "\n",
        "3- Store the trained classifier in the models dict."
      ]
    },
    {
      "cell_type": "code",
      "execution_count": null,
      "metadata": {
        "id": "0l-U_12OMvwx"
      },
      "outputs": [],
      "source": [
        "%%time\n",
        "models = {}\n",
        "for column_labels in columns_labels:\n",
        "    model = XGBClassifier(\n",
        "        eval_metric='logloss',\n",
        "        use_label_encoder=False\n",
        "    )\n",
        "    model.fit(df_features, df_labels[column_labels])\n",
        "    models[column_labels] = model"
      ]
    },
    {
      "cell_type": "markdown",
      "metadata": {
        "id": "velQCbJvOSMz"
      },
      "source": [
        "**Estimate probabilities**"
      ]
    },
    {
      "cell_type": "markdown",
      "metadata": {
        "id": "VM1rS0uHOVIl"
      },
      "source": [
        "The following cell predicts the labels for the game states using the trained XGBoost classifier. For each label:\n",
        "\n",
        "1- Retrieve the model for the label;\n",
        "\n",
        "2- Estimate the probabilities of the labels being False and True given the computed features;\n",
        "\n",
        "3- Keep the probabilities for the True label;\n",
        "\n",
        "4- Store the probabilities as a Series object in the dfs_predictions dict."
      ]
    },
    {
      "cell_type": "code",
      "execution_count": null,
      "metadata": {
        "id": "OX0Kvhu-OOsO"
      },
      "outputs": [],
      "source": [
        "dfs_predictions = {}\n",
        "for column_labels in columns_labels:\n",
        "    model = models[column_labels]\n",
        "    probabilities = model.predict_proba(df_features)\n",
        "    predictions = probabilities[:, 1]\n",
        "    dfs_predictions[column_labels] = pd.Series(predictions)\n",
        "df_predictions = pd.concat(dfs_predictions, axis=1)"
      ]
    },
    {
      "cell_type": "code",
      "execution_count": null,
      "metadata": {
        "id": "Q3Yj9A_BOhiQ"
      },
      "outputs": [],
      "source": [
        "df_predictions.head(5)"
      ]
    },
    {
      "cell_type": "markdown",
      "metadata": {
        "id": "MJY8e_D4Om5T"
      },
      "source": [
        "The following cell obtains the game_id for each action in order to store the predictions per game."
      ]
    },
    {
      "cell_type": "code",
      "execution_count": null,
      "metadata": {
        "id": "yDo91tqfOkKi"
      },
      "outputs": [],
      "source": [
        "dfs_game_ids = []\n",
        "for _, game in tqdm(df_games.iterrows(), total=len(df_games)):\n",
        "    game_id = game['game_id']\n",
        "    df_actions = pd.read_hdf('spadl.h5', key=f'actions/game_{game_id}')\n",
        "    dfs_game_ids.append(df_actions['game_id'])\n",
        "df_game_ids = pd.concat(dfs_game_ids, axis=0).astype('int').reset_index(drop=True)"
      ]
    },
    {
      "cell_type": "markdown",
      "metadata": {
        "id": "_I4_iTdZOsFv"
      },
      "source": [
        "The following cell concatenates the DataFrame objects with predictions and game_ids for each action into a single DataFrame object."
      ]
    },
    {
      "cell_type": "code",
      "execution_count": null,
      "metadata": {
        "id": "Wmsf7joeOplC"
      },
      "outputs": [],
      "source": [
        "df_predictions = pd.concat([df_predictions, df_game_ids], axis=1)"
      ]
    },
    {
      "cell_type": "code",
      "execution_count": null,
      "metadata": {
        "id": "7GM1Zo7qOupC"
      },
      "outputs": [],
      "source": [
        "df_predictions.head(5)"
      ]
    },
    {
      "cell_type": "markdown",
      "metadata": {
        "id": "extR7gkGOyag"
      },
      "source": [
        "The following cell groups the predictions per game based on their game_id."
      ]
    },
    {
      "cell_type": "code",
      "execution_count": null,
      "metadata": {
        "id": "8l_zwDHAOwi-"
      },
      "outputs": [],
      "source": [
        "df_predictions_per_game = df_predictions.groupby('game_id')"
      ]
    },
    {
      "cell_type": "markdown",
      "metadata": {
        "id": "-XA8a6u3O3qU"
      },
      "source": [
        "The following cell stores the predictions in the predictions.h5 HDF5 file per game."
      ]
    },
    {
      "cell_type": "code",
      "execution_count": null,
      "metadata": {
        "id": "1WM1MpYXO1nX"
      },
      "outputs": [],
      "source": [
        "for game_id, df_predictions in tqdm(df_predictions_per_game):\n",
        "    df_predictions = df_predictions.reset_index(drop=True)\n",
        "    df_predictions[columns_labels].to_hdf('predictions.h5', key=f'game_{game_id}')"
      ]
    },
    {
      "cell_type": "markdown",
      "metadata": {
        "id": "YWsRQqwxO9OH"
      },
      "source": [
        "**Value on-the-ball actions**"
      ]
    },
    {
      "cell_type": "markdown",
      "metadata": {
        "id": "sPc8fbj5PEUt"
      },
      "source": [
        "Note: The code in this section is based on the 4-compute-vaep-values.ipynb notebook in the socceraction repository."
      ]
    },
    {
      "cell_type": "code",
      "execution_count": null,
      "metadata": {
        "id": "aFyCcB_iO6Pc"
      },
      "outputs": [],
      "source": [
        "df_players = pd.read_hdf('spadl.h5', key='players')\n",
        "df_teams = pd.read_hdf('spadl.h5', key='teams')"
      ]
    },
    {
      "cell_type": "code",
      "execution_count": null,
      "metadata": {
        "id": "j30ugiHwPHHl"
      },
      "outputs": [],
      "source": [
        "dfs_values = []\n",
        "for _, game in tqdm(df_games.iterrows(), total=len(df_games)):\n",
        "    game_id = game['game_id']\n",
        "    df_actions = pd.read_hdf('spadl.h5', key=f'actions/game_{game_id}')\n",
        "    df_actions = (df_actions\n",
        "        .merge(df_actiontypes, how='left')\n",
        "        .merge(df_results, how='left')\n",
        "        .merge(df_bodyparts, how='left')\n",
        "        .merge(df_players, how='left')\n",
        "        .merge(df_teams, how='left')\n",
        "        .reset_index(drop=True)\n",
        "    )\n",
        "    \n",
        "    df_predictions = pd.read_hdf('predictions.h5', key=f'game_{game_id}')\n",
        "    df_values = value(df_actions, df_predictions['scores'], df_predictions['concedes'])\n",
        "    \n",
        "    df_all = pd.concat([df_actions, df_predictions, df_values], axis=1)\n",
        "    dfs_values.append(df_all)"
      ]
    },
    {
      "cell_type": "code",
      "execution_count": null,
      "metadata": {
        "id": "gsExTgN_PK3z"
      },
      "outputs": [],
      "source": [
        "df_values = (pd.concat(dfs_values)\n",
        "    .sort_values(['game_id', 'period_id', 'time_seconds'])\n",
        "    .reset_index(drop=True)\n",
        ")"
      ]
    },
    {
      "cell_type": "code",
      "execution_count": null,
      "metadata": {
        "id": "3m8Zko6zPMy5"
      },
      "outputs": [],
      "source": [
        "df_values[\n",
        "    ['short_name', 'scores', 'concedes', 'offensive_value', 'defensive_value', 'vaep_value']\n",
        "].head(10)"
      ]
    },
    {
      "cell_type": "markdown",
      "metadata": {
        "id": "L3M3W2LvPQzS"
      },
      "source": [
        "**Rate players**"
      ]
    },
    {
      "cell_type": "markdown",
      "metadata": {
        "id": "5fott-qlPXkx"
      },
      "source": [
        "Note: The code in this section is based on the 5-top-players.ipynb notebook in the socceraction repository."
      ]
    },
    {
      "cell_type": "markdown",
      "metadata": {
        "id": "V8Clr9nBPcCy"
      },
      "source": [
        "**Rate according to total VAEP value**"
      ]
    },
    {
      "cell_type": "code",
      "execution_count": null,
      "metadata": {
        "id": "aQKbnrQnPOVG"
      },
      "outputs": [],
      "source": [
        "df_ranking = (df_values[['player_id', 'team_name', 'short_name', 'vaep_value']]\n",
        "    .groupby(['player_id', 'team_name', 'short_name'])\n",
        "    .agg(vaep_count=('vaep_value', 'count'), vaep_sum=('vaep_value', 'sum'))\n",
        "    .sort_values('vaep_sum', ascending=False)\n",
        "    .reset_index()\n",
        ")"
      ]
    },
    {
      "cell_type": "code",
      "execution_count": null,
      "metadata": {
        "id": "kXD-G3wOPkNw"
      },
      "outputs": [],
      "source": [
        "df_ranking.head(10)"
      ]
    },
    {
      "cell_type": "markdown",
      "metadata": {
        "id": "R-tCFkD9PoBv"
      },
      "source": [
        "**Rate according to total VAEP value per 90 minutes**"
      ]
    },
    {
      "cell_type": "code",
      "execution_count": null,
      "metadata": {
        "id": "s6sYHPCkPlrE"
      },
      "outputs": [],
      "source": [
        "df_player_games = pd.read_hdf('spadl.h5', 'player_games')\n",
        "df_player_games = df_player_games[df_player_games['game_id'].isin(df_games['game_id'])]"
      ]
    },
    {
      "cell_type": "code",
      "execution_count": null,
      "metadata": {
        "id": "5vL7JWhSPwGg"
      },
      "outputs": [],
      "source": [
        "df_minutes_played = (df_player_games[['player_id', 'minutes_played']]\n",
        "    .groupby('player_id')\n",
        "    .sum()\n",
        "    .reset_index()\n",
        ")"
      ]
    },
    {
      "cell_type": "code",
      "execution_count": null,
      "metadata": {
        "id": "2moZUpZ9PxpY"
      },
      "outputs": [],
      "source": [
        "df_minutes_played.head(5)"
      ]
    },
    {
      "cell_type": "code",
      "execution_count": null,
      "metadata": {
        "id": "yLiX-AMrP0tx"
      },
      "outputs": [],
      "source": [
        "df_ranking_p90 = df_ranking.merge(df_minutes_played)\n",
        "df_ranking_p90 = df_ranking_p90[df_ranking_p90['minutes_played'] > 360]\n",
        "df_ranking_p90['vaep_rating'] = df_ranking_p90['vaep_sum'] * 90 / df_ranking_p90['minutes_played']\n",
        "df_ranking_p90 = df_ranking_p90.sort_values('vaep_rating', ascending=False)"
      ]
    },
    {
      "cell_type": "code",
      "execution_count": null,
      "metadata": {
        "id": "4r3cpVpIP29G"
      },
      "outputs": [],
      "source": [
        "df_ranking_p90.head(5)"
      ]
    },
    {
      "cell_type": "code",
      "execution_count": null,
      "metadata": {
        "id": "yWbIwRG3P5ik"
      },
      "outputs": [],
      "source": [
        "df_ranking_p90.to_csv('ranking.csv', index=False)"
      ]
    },
    {
      "cell_type": "code",
      "execution_count": null,
      "metadata": {
        "id": "xZbFQe5EP7V9"
      },
      "outputs": [],
      "source": [
        ""
      ]
    }
  ],
  "metadata": {
    "accelerator": "GPU",
    "colab": {
      "collapsed_sections": [],
      "name": "football.ipynb",
      "provenance": []
    },
    "gpuClass": "standard",
    "kernelspec": {
      "display_name": "Python 3",
      "name": "python3"
    },
    "language_info": {
      "name": "python"
    }
  },
  "nbformat": 4,
  "nbformat_minor": 0
}